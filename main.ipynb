{
 "cells": [
  {
   "cell_type": "markdown",
   "id": "81728bbb",
   "metadata": {},
   "source": [
    "## Importing the requirements"
   ]
  },
  {
   "cell_type": "code",
   "execution_count": 16,
   "id": "33f245b4",
   "metadata": {},
   "outputs": [],
   "source": [
    "import numpy as np, pandas as pd # importing the requirements"
   ]
  },
  {
   "cell_type": "code",
   "execution_count": 17,
   "id": "e5438c35",
   "metadata": {},
   "outputs": [
    {
     "data": {
      "text/plain": [
       "(543, 8)"
      ]
     },
     "execution_count": 17,
     "metadata": {},
     "output_type": "execute_result"
    }
   ],
   "source": [
    "election_dataset=pd.read_csv(\"election_results_2024.csv\", encoding='utf-8-sig') # loading the dataset\n",
    "election_dataset.shape # returns the number of rows and columns of the table"
   ]
  },
  {
   "cell_type": "markdown",
   "id": "2eda0edf",
   "metadata": {},
   "source": [
    "## Inspecting and Exploring the data\n"
   ]
  },
  {
   "cell_type": "code",
   "execution_count": 18,
   "id": "9956a0de",
   "metadata": {},
   "outputs": [
    {
     "data": {
      "text/html": [
       "<div>\n",
       "<style scoped>\n",
       "    .dataframe tbody tr th:only-of-type {\n",
       "        vertical-align: middle;\n",
       "    }\n",
       "\n",
       "    .dataframe tbody tr th {\n",
       "        vertical-align: top;\n",
       "    }\n",
       "\n",
       "    .dataframe thead th {\n",
       "        text-align: right;\n",
       "    }\n",
       "</style>\n",
       "<table border=\"1\" class=\"dataframe\">\n",
       "  <thead>\n",
       "    <tr style=\"text-align: right;\">\n",
       "      <th></th>\n",
       "      <th>Constituency</th>\n",
       "      <th>Const. No.</th>\n",
       "      <th>Leading Candidate</th>\n",
       "      <th>Leading Party</th>\n",
       "      <th>Trailing Candidate</th>\n",
       "      <th>Trailing Party</th>\n",
       "      <th>Margin</th>\n",
       "      <th>Status</th>\n",
       "    </tr>\n",
       "  </thead>\n",
       "  <tbody>\n",
       "    <tr>\n",
       "      <th>0</th>\n",
       "      <td>AJMER</td>\n",
       "      <td>13</td>\n",
       "      <td>BHAGIRATH CHOUDHARY</td>\n",
       "      <td>Bharatiya Janata Party</td>\n",
       "      <td>RAMCHANDRA CHOUDHARY</td>\n",
       "      <td>Indian National Congress</td>\n",
       "      <td>329991</td>\n",
       "      <td>Result Declared</td>\n",
       "    </tr>\n",
       "    <tr>\n",
       "      <th>1</th>\n",
       "      <td>ALWAR</td>\n",
       "      <td>8</td>\n",
       "      <td>BHUPENDER YADAV</td>\n",
       "      <td>Bharatiya Janata Party</td>\n",
       "      <td>LALIT YADAV</td>\n",
       "      <td>Indian National Congress</td>\n",
       "      <td>48282</td>\n",
       "      <td>Result Declared</td>\n",
       "    </tr>\n",
       "    <tr>\n",
       "      <th>2</th>\n",
       "      <td>AMBALA</td>\n",
       "      <td>1</td>\n",
       "      <td>VARUN CHAUDHRY</td>\n",
       "      <td>Indian National Congress</td>\n",
       "      <td>BANTO KATARIA</td>\n",
       "      <td>Bharatiya Janata Party</td>\n",
       "      <td>49036</td>\n",
       "      <td>Result Declared</td>\n",
       "    </tr>\n",
       "    <tr>\n",
       "      <th>3</th>\n",
       "      <td>ANANTNAG-RAJOURI</td>\n",
       "      <td>3</td>\n",
       "      <td>MIAN ALTAF AHMAD</td>\n",
       "      <td>Jammu &amp; Kashmir National Conference</td>\n",
       "      <td>MEHBOOBA MUFTI</td>\n",
       "      <td>Jammu &amp; Kashmir Peoples Democratic Party</td>\n",
       "      <td>281794</td>\n",
       "      <td>Result Declared</td>\n",
       "    </tr>\n",
       "    <tr>\n",
       "      <th>4</th>\n",
       "      <td>ARAKKONAM</td>\n",
       "      <td>7</td>\n",
       "      <td>S JAGATHRATCHAKAN</td>\n",
       "      <td>Dravida Munnetra Kazhagam</td>\n",
       "      <td>L VIJAYAN</td>\n",
       "      <td>All India Anna Dravida Munnetra Kazhagam</td>\n",
       "      <td>306559</td>\n",
       "      <td>Result Declared</td>\n",
       "    </tr>\n",
       "  </tbody>\n",
       "</table>\n",
       "</div>"
      ],
      "text/plain": [
       "       Constituency  Const. No.    Leading Candidate  \\\n",
       "0             AJMER          13  BHAGIRATH CHOUDHARY   \n",
       "1             ALWAR           8      BHUPENDER YADAV   \n",
       "2            AMBALA           1       VARUN CHAUDHRY   \n",
       "3  ANANTNAG-RAJOURI           3     MIAN ALTAF AHMAD   \n",
       "4         ARAKKONAM           7    S JAGATHRATCHAKAN   \n",
       "\n",
       "                         Leading Party    Trailing Candidate  \\\n",
       "0               Bharatiya Janata Party  RAMCHANDRA CHOUDHARY   \n",
       "1               Bharatiya Janata Party           LALIT YADAV   \n",
       "2             Indian National Congress         BANTO KATARIA   \n",
       "3  Jammu & Kashmir National Conference        MEHBOOBA MUFTI   \n",
       "4            Dravida Munnetra Kazhagam             L VIJAYAN   \n",
       "\n",
       "                             Trailing Party  Margin           Status  \n",
       "0                  Indian National Congress  329991  Result Declared  \n",
       "1                  Indian National Congress   48282  Result Declared  \n",
       "2                    Bharatiya Janata Party   49036  Result Declared  \n",
       "3  Jammu & Kashmir Peoples Democratic Party  281794  Result Declared  \n",
       "4  All India Anna Dravida Munnetra Kazhagam  306559  Result Declared  "
      ]
     },
     "execution_count": 18,
     "metadata": {},
     "output_type": "execute_result"
    }
   ],
   "source": [
    "election_dataset.head() # preprocessing the data"
   ]
  },
  {
   "cell_type": "code",
   "execution_count": 19,
   "id": "cf2cba6d",
   "metadata": {},
   "outputs": [
    {
     "data": {
      "text/html": [
       "<div>\n",
       "<style scoped>\n",
       "    .dataframe tbody tr th:only-of-type {\n",
       "        vertical-align: middle;\n",
       "    }\n",
       "\n",
       "    .dataframe tbody tr th {\n",
       "        vertical-align: top;\n",
       "    }\n",
       "\n",
       "    .dataframe thead th {\n",
       "        text-align: right;\n",
       "    }\n",
       "</style>\n",
       "<table border=\"1\" class=\"dataframe\">\n",
       "  <thead>\n",
       "    <tr style=\"text-align: right;\">\n",
       "      <th></th>\n",
       "      <th>Constituency</th>\n",
       "      <th>Const. No.</th>\n",
       "      <th>Leading Candidate</th>\n",
       "      <th>Leading Party</th>\n",
       "      <th>Trailing Candidate</th>\n",
       "      <th>Trailing Party</th>\n",
       "      <th>Margin</th>\n",
       "      <th>Status</th>\n",
       "    </tr>\n",
       "  </thead>\n",
       "  <tbody>\n",
       "    <tr>\n",
       "      <th>538</th>\n",
       "      <td>Wardha</td>\n",
       "      <td>8</td>\n",
       "      <td>AMAR SHARADRAO KALE</td>\n",
       "      <td>Nationalist Congress Party – Sharadchandra Pawar</td>\n",
       "      <td>RAMDAS CHANDRABHAN TADAS</td>\n",
       "      <td>Bharatiya Janata Party</td>\n",
       "      <td>81648</td>\n",
       "      <td>Result Declared</td>\n",
       "    </tr>\n",
       "    <tr>\n",
       "      <th>539</th>\n",
       "      <td>Wayanad</td>\n",
       "      <td>4</td>\n",
       "      <td>RAHUL GANDHI</td>\n",
       "      <td>Indian National Congress</td>\n",
       "      <td>ANNIE RAJA</td>\n",
       "      <td>Communist Party of India</td>\n",
       "      <td>364422</td>\n",
       "      <td>Result Declared</td>\n",
       "    </tr>\n",
       "    <tr>\n",
       "      <th>540</th>\n",
       "      <td>West Delhi</td>\n",
       "      <td>6</td>\n",
       "      <td>KAMALJEET SEHRAWAT</td>\n",
       "      <td>Bharatiya Janata Party</td>\n",
       "      <td>MAHABAL MISHRA</td>\n",
       "      <td>Aam Aadmi Party</td>\n",
       "      <td>199013</td>\n",
       "      <td>Result Declared</td>\n",
       "    </tr>\n",
       "    <tr>\n",
       "      <th>541</th>\n",
       "      <td>Yavatmal- Washim</td>\n",
       "      <td>14</td>\n",
       "      <td>SANJAY UTTAMRAO DESHMUKH</td>\n",
       "      <td>Shiv Sena (Uddhav Balasaheb Thackrey)</td>\n",
       "      <td>RAJSHRITAI HEMANT PATIL (MAHALLE)</td>\n",
       "      <td>Shiv Sena</td>\n",
       "      <td>94473</td>\n",
       "      <td>Result Declared</td>\n",
       "    </tr>\n",
       "    <tr>\n",
       "      <th>542</th>\n",
       "      <td>Zahirabad</td>\n",
       "      <td>5</td>\n",
       "      <td>SURESH KUMAR SHETKAR</td>\n",
       "      <td>Indian National Congress</td>\n",
       "      <td>B. B. PATIL</td>\n",
       "      <td>Bharatiya Janata Party</td>\n",
       "      <td>46188</td>\n",
       "      <td>Result Declared</td>\n",
       "    </tr>\n",
       "  </tbody>\n",
       "</table>\n",
       "</div>"
      ],
      "text/plain": [
       "         Constituency  Const. No.         Leading Candidate  \\\n",
       "538            Wardha           8       AMAR SHARADRAO KALE   \n",
       "539           Wayanad           4              RAHUL GANDHI   \n",
       "540        West Delhi           6        KAMALJEET SEHRAWAT   \n",
       "541  Yavatmal- Washim          14  SANJAY UTTAMRAO DESHMUKH   \n",
       "542         Zahirabad           5      SURESH KUMAR SHETKAR   \n",
       "\n",
       "                                        Leading Party  \\\n",
       "538  Nationalist Congress Party – Sharadchandra Pawar   \n",
       "539                          Indian National Congress   \n",
       "540                            Bharatiya Janata Party   \n",
       "541             Shiv Sena (Uddhav Balasaheb Thackrey)   \n",
       "542                          Indian National Congress   \n",
       "\n",
       "                    Trailing Candidate            Trailing Party  Margin  \\\n",
       "538           RAMDAS CHANDRABHAN TADAS    Bharatiya Janata Party   81648   \n",
       "539                         ANNIE RAJA  Communist Party of India  364422   \n",
       "540                     MAHABAL MISHRA           Aam Aadmi Party  199013   \n",
       "541  RAJSHRITAI HEMANT PATIL (MAHALLE)                 Shiv Sena   94473   \n",
       "542                        B. B. PATIL    Bharatiya Janata Party   46188   \n",
       "\n",
       "              Status  \n",
       "538  Result Declared  \n",
       "539  Result Declared  \n",
       "540  Result Declared  \n",
       "541  Result Declared  \n",
       "542  Result Declared  "
      ]
     },
     "execution_count": 19,
     "metadata": {},
     "output_type": "execute_result"
    }
   ],
   "source": [
    "election_dataset.tail()"
   ]
  },
  {
   "cell_type": "code",
   "execution_count": 20,
   "id": "acb4f055",
   "metadata": {},
   "outputs": [
    {
     "data": {
      "text/html": [
       "<div>\n",
       "<style scoped>\n",
       "    .dataframe tbody tr th:only-of-type {\n",
       "        vertical-align: middle;\n",
       "    }\n",
       "\n",
       "    .dataframe tbody tr th {\n",
       "        vertical-align: top;\n",
       "    }\n",
       "\n",
       "    .dataframe thead th {\n",
       "        text-align: right;\n",
       "    }\n",
       "</style>\n",
       "<table border=\"1\" class=\"dataframe\">\n",
       "  <thead>\n",
       "    <tr style=\"text-align: right;\">\n",
       "      <th></th>\n",
       "      <th>Const. No.</th>\n",
       "    </tr>\n",
       "  </thead>\n",
       "  <tbody>\n",
       "    <tr>\n",
       "      <th>count</th>\n",
       "      <td>543.000000</td>\n",
       "    </tr>\n",
       "    <tr>\n",
       "      <th>mean</th>\n",
       "      <td>18.178637</td>\n",
       "    </tr>\n",
       "    <tr>\n",
       "      <th>std</th>\n",
       "      <td>16.427840</td>\n",
       "    </tr>\n",
       "    <tr>\n",
       "      <th>min</th>\n",
       "      <td>1.000000</td>\n",
       "    </tr>\n",
       "    <tr>\n",
       "      <th>25%</th>\n",
       "      <td>6.000000</td>\n",
       "    </tr>\n",
       "    <tr>\n",
       "      <th>50%</th>\n",
       "      <td>14.000000</td>\n",
       "    </tr>\n",
       "    <tr>\n",
       "      <th>75%</th>\n",
       "      <td>25.000000</td>\n",
       "    </tr>\n",
       "    <tr>\n",
       "      <th>max</th>\n",
       "      <td>80.000000</td>\n",
       "    </tr>\n",
       "  </tbody>\n",
       "</table>\n",
       "</div>"
      ],
      "text/plain": [
       "       Const. No.\n",
       "count  543.000000\n",
       "mean    18.178637\n",
       "std     16.427840\n",
       "min      1.000000\n",
       "25%      6.000000\n",
       "50%     14.000000\n",
       "75%     25.000000\n",
       "max     80.000000"
      ]
     },
     "execution_count": 20,
     "metadata": {},
     "output_type": "execute_result"
    }
   ],
   "source": [
    "election_dataset.describe()"
   ]
  },
  {
   "cell_type": "code",
   "execution_count": 21,
   "id": "1cb9afdb",
   "metadata": {},
   "outputs": [
    {
     "data": {
      "text/html": [
       "<div>\n",
       "<style scoped>\n",
       "    .dataframe tbody tr th:only-of-type {\n",
       "        vertical-align: middle;\n",
       "    }\n",
       "\n",
       "    .dataframe tbody tr th {\n",
       "        vertical-align: top;\n",
       "    }\n",
       "\n",
       "    .dataframe thead th {\n",
       "        text-align: right;\n",
       "    }\n",
       "</style>\n",
       "<table border=\"1\" class=\"dataframe\">\n",
       "  <thead>\n",
       "    <tr style=\"text-align: right;\">\n",
       "      <th></th>\n",
       "      <th>count</th>\n",
       "      <th>unique</th>\n",
       "      <th>top</th>\n",
       "      <th>freq</th>\n",
       "    </tr>\n",
       "  </thead>\n",
       "  <tbody>\n",
       "    <tr>\n",
       "      <th>Constituency</th>\n",
       "      <td>543</td>\n",
       "      <td>541</td>\n",
       "      <td>Aurangabad</td>\n",
       "      <td>2</td>\n",
       "    </tr>\n",
       "    <tr>\n",
       "      <th>Leading Candidate</th>\n",
       "      <td>543</td>\n",
       "      <td>542</td>\n",
       "      <td>RAHUL GANDHI</td>\n",
       "      <td>2</td>\n",
       "    </tr>\n",
       "    <tr>\n",
       "      <th>Leading Party</th>\n",
       "      <td>543</td>\n",
       "      <td>42</td>\n",
       "      <td>Bharatiya Janata Party</td>\n",
       "      <td>240</td>\n",
       "    </tr>\n",
       "    <tr>\n",
       "      <th>Trailing Candidate</th>\n",
       "      <td>542</td>\n",
       "      <td>542</td>\n",
       "      <td>RAMCHANDRA CHOUDHARY</td>\n",
       "      <td>1</td>\n",
       "    </tr>\n",
       "    <tr>\n",
       "      <th>Trailing Party</th>\n",
       "      <td>542</td>\n",
       "      <td>42</td>\n",
       "      <td>Indian National Congress</td>\n",
       "      <td>167</td>\n",
       "    </tr>\n",
       "    <tr>\n",
       "      <th>Margin</th>\n",
       "      <td>543</td>\n",
       "      <td>543</td>\n",
       "      <td>329991</td>\n",
       "      <td>1</td>\n",
       "    </tr>\n",
       "    <tr>\n",
       "      <th>Status</th>\n",
       "      <td>543</td>\n",
       "      <td>2</td>\n",
       "      <td>Result Declared</td>\n",
       "      <td>542</td>\n",
       "    </tr>\n",
       "  </tbody>\n",
       "</table>\n",
       "</div>"
      ],
      "text/plain": [
       "                   count unique                       top freq\n",
       "Constituency         543    541                Aurangabad    2\n",
       "Leading Candidate    543    542              RAHUL GANDHI    2\n",
       "Leading Party        543     42    Bharatiya Janata Party  240\n",
       "Trailing Candidate   542    542      RAMCHANDRA CHOUDHARY    1\n",
       "Trailing Party       542     42  Indian National Congress  167\n",
       "Margin               543    543                    329991    1\n",
       "Status               543      2           Result Declared  542"
      ]
     },
     "execution_count": 21,
     "metadata": {},
     "output_type": "execute_result"
    }
   ],
   "source": [
    "election_dataset.describe(include=\"object\").transpose()\n"
   ]
  },
  {
   "cell_type": "markdown",
   "id": "9d1adf12",
   "metadata": {},
   "source": [
    "Observations:\n",
    "* Aurangabad appeared twice which points towards the issue.\n",
    "* Rahul Gandhi appeared twice because he has participated in two constituency.\n",
    "* BJP is the leading party with a good control over 240 constituencies with 42 unique parties.\n",
    "* INC appears to be trailing party in 167 constituencies.\n",
    "* Margin is unique for each constituencies with 329991 as the highest.\n",
    "* Result status have been declared for 542 constituencies, indicating the result of one constituency is still pending."
   ]
  },
  {
   "cell_type": "code",
   "execution_count": 22,
   "id": "aa85b094",
   "metadata": {},
   "outputs": [
    {
     "name": "stdout",
     "output_type": "stream",
     "text": [
      "<class 'pandas.core.frame.DataFrame'>\n",
      "RangeIndex: 543 entries, 0 to 542\n",
      "Data columns (total 8 columns):\n",
      " #   Column              Non-Null Count  Dtype \n",
      "---  ------              --------------  ----- \n",
      " 0   Constituency        543 non-null    object\n",
      " 1   Const. No.          543 non-null    int64 \n",
      " 2   Leading Candidate   543 non-null    object\n",
      " 3   Leading Party       543 non-null    object\n",
      " 4   Trailing Candidate  542 non-null    object\n",
      " 5   Trailing Party      542 non-null    object\n",
      " 6   Margin              543 non-null    object\n",
      " 7   Status              543 non-null    object\n",
      "dtypes: int64(1), object(7)\n",
      "memory usage: 34.1+ KB\n"
     ]
    }
   ],
   "source": [
    "election_dataset.info()"
   ]
  },
  {
   "cell_type": "markdown",
   "id": "6d86085e",
   "metadata": {},
   "source": [
    "* Trailing Candidate and Trailing Party contains the null values, Here it's clear that out of 543 entries 542 are non null and 1 is null value for the both of the columns.\n",
    "* Margin column is of object type."
   ]
  },
  {
   "cell_type": "markdown",
   "id": "120151a2",
   "metadata": {},
   "source": [
    "# Updating the encountered problems with the dataset\n"
   ]
  },
  {
   "cell_type": "code",
   "execution_count": 23,
   "id": "7a2f4412",
   "metadata": {},
   "outputs": [],
   "source": [
    "# converting the margin colum to numeric:\n",
    "election_dataset[\"Margin\"]=pd.to_numeric(election_dataset[\"Margin\"], errors=\"coerce\")"
   ]
  },
  {
   "cell_type": "code",
   "execution_count": 24,
   "id": "fec077b4",
   "metadata": {},
   "outputs": [],
   "source": [
    "# filling the null values in the studied two columns\n",
    "election_dataset = election_dataset.fillna({\n",
    "    \"Trailing Candidate\":\"N/A\", \n",
    "    \"Trailing Party\":\"N/A\"\n",
    "    })"
   ]
  },
  {
   "cell_type": "code",
   "execution_count": 25,
   "id": "2dd9cc79",
   "metadata": {},
   "outputs": [
    {
     "data": {
      "text/html": [
       "<div>\n",
       "<style scoped>\n",
       "    .dataframe tbody tr th:only-of-type {\n",
       "        vertical-align: middle;\n",
       "    }\n",
       "\n",
       "    .dataframe tbody tr th {\n",
       "        vertical-align: top;\n",
       "    }\n",
       "\n",
       "    .dataframe thead th {\n",
       "        text-align: right;\n",
       "    }\n",
       "</style>\n",
       "<table border=\"1\" class=\"dataframe\">\n",
       "  <thead>\n",
       "    <tr style=\"text-align: right;\">\n",
       "      <th></th>\n",
       "      <th>Constituency</th>\n",
       "      <th>Const. No.</th>\n",
       "      <th>Leading Candidate</th>\n",
       "      <th>Leading Party</th>\n",
       "      <th>Trailing Candidate</th>\n",
       "      <th>Trailing Party</th>\n",
       "      <th>Margin</th>\n",
       "      <th>Status</th>\n",
       "    </tr>\n",
       "  </thead>\n",
       "  <tbody>\n",
       "    <tr>\n",
       "      <th>41</th>\n",
       "      <td>Aurangabad</td>\n",
       "      <td>19</td>\n",
       "      <td>BHUMARE SANDIPANRAO ASARAM</td>\n",
       "      <td>Shiv Sena</td>\n",
       "      <td>IMTIAZ JALEEL SYED</td>\n",
       "      <td>All India Majlis-E-Ittehadul Muslimeen</td>\n",
       "      <td>134650.0</td>\n",
       "      <td>Result Declared</td>\n",
       "    </tr>\n",
       "    <tr>\n",
       "      <th>42</th>\n",
       "      <td>Aurangabad</td>\n",
       "      <td>37</td>\n",
       "      <td>ABHAY KUMAR SINHA</td>\n",
       "      <td>Rashtriya Janata Dal</td>\n",
       "      <td>SUSHIL KUMAR SINGH</td>\n",
       "      <td>Bharatiya Janata Party</td>\n",
       "      <td>79111.0</td>\n",
       "      <td>Result Declared</td>\n",
       "    </tr>\n",
       "  </tbody>\n",
       "</table>\n",
       "</div>"
      ],
      "text/plain": [
       "   Constituency  Const. No.           Leading Candidate         Leading Party  \\\n",
       "41   Aurangabad          19  BHUMARE SANDIPANRAO ASARAM             Shiv Sena   \n",
       "42   Aurangabad          37           ABHAY KUMAR SINHA  Rashtriya Janata Dal   \n",
       "\n",
       "    Trailing Candidate                          Trailing Party    Margin  \\\n",
       "41  IMTIAZ JALEEL SYED  All India Majlis-E-Ittehadul Muslimeen  134650.0   \n",
       "42  SUSHIL KUMAR SINGH                  Bharatiya Janata Party   79111.0   \n",
       "\n",
       "             Status  \n",
       "41  Result Declared  \n",
       "42  Result Declared  "
      ]
     },
     "execution_count": 25,
     "metadata": {},
     "output_type": "execute_result"
    }
   ],
   "source": [
    "election_dataset[election_dataset[\"Constituency\"]==\"Aurangabad\"]"
   ]
  },
  {
   "cell_type": "markdown",
   "id": "17a6415d",
   "metadata": {},
   "source": [
    "Bhumare Asaram won lok sabha election at Aurangabad of Maharashtra\n",
    "whereas Abhay Kumar won at Arurangabad of Bihar\n"
   ]
  },
  {
   "cell_type": "code",
   "execution_count": 26,
   "id": "67af7ae0",
   "metadata": {},
   "outputs": [],
   "source": [
    "election_dataset.loc[election_dataset[\"Constituency\"]==\"Aurangabad\", \"Constituency\"]=[\"Aurangabad (Maharashtra)\", \"Aurangabad (Bihar)\"]"
   ]
  },
  {
   "cell_type": "code",
   "execution_count": 27,
   "id": "8a17c54e",
   "metadata": {},
   "outputs": [
    {
     "data": {
      "text/html": [
       "<div>\n",
       "<style scoped>\n",
       "    .dataframe tbody tr th:only-of-type {\n",
       "        vertical-align: middle;\n",
       "    }\n",
       "\n",
       "    .dataframe tbody tr th {\n",
       "        vertical-align: top;\n",
       "    }\n",
       "\n",
       "    .dataframe thead th {\n",
       "        text-align: right;\n",
       "    }\n",
       "</style>\n",
       "<table border=\"1\" class=\"dataframe\">\n",
       "  <thead>\n",
       "    <tr style=\"text-align: right;\">\n",
       "      <th></th>\n",
       "      <th>Constituency</th>\n",
       "      <th>Const. No.</th>\n",
       "      <th>Leading Candidate</th>\n",
       "      <th>Leading Party</th>\n",
       "      <th>Trailing Candidate</th>\n",
       "      <th>Trailing Party</th>\n",
       "      <th>Margin</th>\n",
       "      <th>Status</th>\n",
       "    </tr>\n",
       "  </thead>\n",
       "  <tbody>\n",
       "    <tr>\n",
       "      <th>41</th>\n",
       "      <td>Aurangabad (Maharashtra)</td>\n",
       "      <td>19</td>\n",
       "      <td>BHUMARE SANDIPANRAO ASARAM</td>\n",
       "      <td>Shiv Sena</td>\n",
       "      <td>IMTIAZ JALEEL SYED</td>\n",
       "      <td>All India Majlis-E-Ittehadul Muslimeen</td>\n",
       "      <td>134650.0</td>\n",
       "      <td>Result Declared</td>\n",
       "    </tr>\n",
       "    <tr>\n",
       "      <th>42</th>\n",
       "      <td>Aurangabad (Bihar)</td>\n",
       "      <td>37</td>\n",
       "      <td>ABHAY KUMAR SINHA</td>\n",
       "      <td>Rashtriya Janata Dal</td>\n",
       "      <td>SUSHIL KUMAR SINGH</td>\n",
       "      <td>Bharatiya Janata Party</td>\n",
       "      <td>79111.0</td>\n",
       "      <td>Result Declared</td>\n",
       "    </tr>\n",
       "  </tbody>\n",
       "</table>\n",
       "</div>"
      ],
      "text/plain": [
       "                Constituency  Const. No.           Leading Candidate  \\\n",
       "41  Aurangabad (Maharashtra)          19  BHUMARE SANDIPANRAO ASARAM   \n",
       "42        Aurangabad (Bihar)          37           ABHAY KUMAR SINHA   \n",
       "\n",
       "           Leading Party  Trailing Candidate  \\\n",
       "41             Shiv Sena  IMTIAZ JALEEL SYED   \n",
       "42  Rashtriya Janata Dal  SUSHIL KUMAR SINGH   \n",
       "\n",
       "                            Trailing Party    Margin           Status  \n",
       "41  All India Majlis-E-Ittehadul Muslimeen  134650.0  Result Declared  \n",
       "42                  Bharatiya Janata Party   79111.0  Result Declared  "
      ]
     },
     "execution_count": 27,
     "metadata": {},
     "output_type": "execute_result"
    }
   ],
   "source": [
    "# verifying the updated values\n",
    "election_dataset[41:43]"
   ]
  },
  {
   "cell_type": "code",
   "execution_count": 28,
   "id": "abd648b1",
   "metadata": {},
   "outputs": [
    {
     "data": {
      "text/plain": [
       "Leading Party\n",
       "Bharatiya Janata Party                                      240\n",
       "Indian National Congress                                     99\n",
       "Samajwadi Party                                              37\n",
       "All India Trinamool Congress                                 29\n",
       "Dravida Munnetra Kazhagam                                    22\n",
       "Telugu Desam                                                 16\n",
       "Janata Dal (United)                                          12\n",
       "Shiv Sena (Uddhav Balasaheb Thackrey)                         9\n",
       "Nationalist Congress Party – Sharadchandra Pawar              8\n",
       "Independent                                                   7\n",
       "Shiv Sena                                                     7\n",
       "Lok Janshakti Party(Ram Vilas)                                5\n",
       "Communist Party of India (Marxist)                            4\n",
       "Yuvajana Sramika Rythu Congress Party                         4\n",
       "Rashtriya Janata Dal                                          4\n",
       "Aam Aadmi Party                                               3\n",
       "Indian Union Muslim League                                    3\n",
       "Jharkhand Mukti Morcha                                        3\n",
       "Jammu & Kashmir National Conference                           2\n",
       "Communist Party of India (Marxist-Leninist) (Liberation)      2\n",
       "Viduthalai Chiruthaigal Katch                                 2\n",
       "Rashtriya Lok Dal                                             2\n",
       "Communist Party of India                                      2\n",
       "Janata Dal (Secular)                                          2\n",
       "Janasena Party                                                2\n",
       "Bharat Adivasi Party                                          1\n",
       "Hindustani Awam Morcha (Secular)                              1\n",
       "AJSU Party                                                    1\n",
       "Shiromani Akali Dal                                           1\n",
       "Asom Gana Parishad                                            1\n",
       "United People’s Party, Liberal                                1\n",
       "Revolutionary Socialist Party                                 1\n",
       "Kerala Congress                                               1\n",
       "All India Majlis-E-Ittehadul Muslimeen                        1\n",
       "Zoram People’s Movement                                       1\n",
       "Apna Dal (Soneylal)                                           1\n",
       "Rashtriya Loktantrik Party                                    1\n",
       "Aazad Samaj Party (Kanshi Ram)                                1\n",
       "Nationalist Congress Party                                    1\n",
       "Voice of the People Party                                     1\n",
       "Sikkim Krantikari Morcha                                      1\n",
       "Marumalarchi Dravida Munnetra Kazhagam                        1\n",
       "Name: count, dtype: int64"
      ]
     },
     "execution_count": 28,
     "metadata": {},
     "output_type": "execute_result"
    }
   ],
   "source": [
    "leading_party_counts=election_dataset[\"Leading Party\"].value_counts()\n",
    "leading_party_counts"
   ]
  },
  {
   "cell_type": "code",
   "execution_count": 29,
   "id": "2845273c",
   "metadata": {},
   "outputs": [
    {
     "data": {
      "text/plain": [
       "np.int64(52)"
      ]
     },
     "execution_count": 29,
     "metadata": {},
     "output_type": "execute_result"
    }
   ],
   "source": [
    "other_party_counts=leading_party_counts[leading_party_counts<5].sum()\n",
    "other_party_counts"
   ]
  },
  {
   "cell_type": "code",
   "execution_count": 30,
   "id": "04f6516a",
   "metadata": {},
   "outputs": [
    {
     "data": {
      "text/plain": [
       "Leading Party\n",
       "Bharatiya Janata Party                              240\n",
       "Indian National Congress                             99\n",
       "Samajwadi Party                                      37\n",
       "All India Trinamool Congress                         29\n",
       "Dravida Munnetra Kazhagam                            22\n",
       "Telugu Desam                                         16\n",
       "Janata Dal (United)                                  12\n",
       "Shiv Sena (Uddhav Balasaheb Thackrey)                 9\n",
       "Nationalist Congress Party – Sharadchandra Pawar      8\n",
       "Independent                                           7\n",
       "Shiv Sena                                             7\n",
       "Lok Janshakti Party(Ram Vilas)                        5\n",
       "Others                                               52\n",
       "Name: count, dtype: int64"
      ]
     },
     "execution_count": 30,
     "metadata": {},
     "output_type": "execute_result"
    }
   ],
   "source": [
    "leading_party_counts = leading_party_counts[leading_party_counts>=5] # will allow only the entries of the parties having count greater than 5 \n",
    "leading_party_counts[\"Others\"]=other_party_counts # add a category into the leading party containing all the parties having count less than 5 \n",
    "leading_party_counts"
   ]
  },
  {
   "cell_type": "code",
   "execution_count": 31,
   "id": "ac890ad0",
   "metadata": {},
   "outputs": [
    {
     "data": {
      "text/plain": [
       "'Jai Shree Ram.'"
      ]
     },
     "execution_count": 31,
     "metadata": {},
     "output_type": "execute_result"
    }
   ],
   "source": [
    "\"Jai Shree Ram.\""
   ]
  }
 ],
 "metadata": {
  "kernelspec": {
   "display_name": "venv",
   "language": "python",
   "name": "python3"
  },
  "language_info": {
   "codemirror_mode": {
    "name": "ipython",
    "version": 3
   },
   "file_extension": ".py",
   "mimetype": "text/x-python",
   "name": "python",
   "nbconvert_exporter": "python",
   "pygments_lexer": "ipython3",
   "version": "3.12.5"
  }
 },
 "nbformat": 4,
 "nbformat_minor": 5
}
